{
  "nbformat": 4,
  "nbformat_minor": 0,
  "metadata": {
    "colab": {
      "name": "supervised graph classification.ipynb",
      "provenance": []
    },
    "kernelspec": {
      "name": "python3",
      "display_name": "Python 3"
    },
    "language_info": {
      "name": "python"
    }
  },
  "cells": [
    {
      "cell_type": "code",
      "metadata": {
        "colab": {
          "base_uri": "https://localhost:8080/"
        },
        "id": "DUAgcF23UPlt",
        "outputId": "1d99988c-b036-4a13-ee11-3678e2d9d912"
      },
      "source": [
        "!pip install stellargraph"
      ],
      "execution_count": 1,
      "outputs": [
        {
          "output_type": "stream",
          "text": [
            "Requirement already satisfied: stellargraph in /usr/local/lib/python3.7/dist-packages (1.2.1)\n",
            "Requirement already satisfied: scipy>=1.1.0 in /usr/local/lib/python3.7/dist-packages (from stellargraph) (1.4.1)\n",
            "Requirement already satisfied: numpy>=1.14 in /usr/local/lib/python3.7/dist-packages (from stellargraph) (1.19.5)\n",
            "Requirement already satisfied: scikit-learn>=0.20 in /usr/local/lib/python3.7/dist-packages (from stellargraph) (0.22.2.post1)\n",
            "Requirement already satisfied: tensorflow>=2.1.0 in /usr/local/lib/python3.7/dist-packages (from stellargraph) (2.4.1)\n",
            "Requirement already satisfied: matplotlib>=2.2 in /usr/local/lib/python3.7/dist-packages (from stellargraph) (3.2.2)\n",
            "Requirement already satisfied: networkx>=2.2 in /usr/local/lib/python3.7/dist-packages (from stellargraph) (2.5.1)\n",
            "Requirement already satisfied: gensim>=3.4.0 in /usr/local/lib/python3.7/dist-packages (from stellargraph) (3.6.0)\n",
            "Requirement already satisfied: pandas>=0.24 in /usr/local/lib/python3.7/dist-packages (from stellargraph) (1.1.5)\n",
            "Requirement already satisfied: joblib>=0.11 in /usr/local/lib/python3.7/dist-packages (from scikit-learn>=0.20->stellargraph) (1.0.1)\n",
            "Requirement already satisfied: astunparse~=1.6.3 in /usr/local/lib/python3.7/dist-packages (from tensorflow>=2.1.0->stellargraph) (1.6.3)\n",
            "Requirement already satisfied: keras-preprocessing~=1.1.2 in /usr/local/lib/python3.7/dist-packages (from tensorflow>=2.1.0->stellargraph) (1.1.2)\n",
            "Requirement already satisfied: opt-einsum~=3.3.0 in /usr/local/lib/python3.7/dist-packages (from tensorflow>=2.1.0->stellargraph) (3.3.0)\n",
            "Requirement already satisfied: protobuf>=3.9.2 in /usr/local/lib/python3.7/dist-packages (from tensorflow>=2.1.0->stellargraph) (3.12.4)\n",
            "Requirement already satisfied: absl-py~=0.10 in /usr/local/lib/python3.7/dist-packages (from tensorflow>=2.1.0->stellargraph) (0.12.0)\n",
            "Requirement already satisfied: h5py~=2.10.0 in /usr/local/lib/python3.7/dist-packages (from tensorflow>=2.1.0->stellargraph) (2.10.0)\n",
            "Requirement already satisfied: flatbuffers~=1.12.0 in /usr/local/lib/python3.7/dist-packages (from tensorflow>=2.1.0->stellargraph) (1.12)\n",
            "Requirement already satisfied: typing-extensions~=3.7.4 in /usr/local/lib/python3.7/dist-packages (from tensorflow>=2.1.0->stellargraph) (3.7.4.3)\n",
            "Requirement already satisfied: termcolor~=1.1.0 in /usr/local/lib/python3.7/dist-packages (from tensorflow>=2.1.0->stellargraph) (1.1.0)\n",
            "Requirement already satisfied: wheel~=0.35 in /usr/local/lib/python3.7/dist-packages (from tensorflow>=2.1.0->stellargraph) (0.36.2)\n",
            "Requirement already satisfied: wrapt~=1.12.1 in /usr/local/lib/python3.7/dist-packages (from tensorflow>=2.1.0->stellargraph) (1.12.1)\n",
            "Requirement already satisfied: gast==0.3.3 in /usr/local/lib/python3.7/dist-packages (from tensorflow>=2.1.0->stellargraph) (0.3.3)\n",
            "Requirement already satisfied: tensorboard~=2.4 in /usr/local/lib/python3.7/dist-packages (from tensorflow>=2.1.0->stellargraph) (2.4.1)\n",
            "Requirement already satisfied: google-pasta~=0.2 in /usr/local/lib/python3.7/dist-packages (from tensorflow>=2.1.0->stellargraph) (0.2.0)\n",
            "Requirement already satisfied: tensorflow-estimator<2.5.0,>=2.4.0 in /usr/local/lib/python3.7/dist-packages (from tensorflow>=2.1.0->stellargraph) (2.4.0)\n",
            "Requirement already satisfied: grpcio~=1.32.0 in /usr/local/lib/python3.7/dist-packages (from tensorflow>=2.1.0->stellargraph) (1.32.0)\n",
            "Requirement already satisfied: six~=1.15.0 in /usr/local/lib/python3.7/dist-packages (from tensorflow>=2.1.0->stellargraph) (1.15.0)\n",
            "Requirement already satisfied: cycler>=0.10 in /usr/local/lib/python3.7/dist-packages (from matplotlib>=2.2->stellargraph) (0.10.0)\n",
            "Requirement already satisfied: kiwisolver>=1.0.1 in /usr/local/lib/python3.7/dist-packages (from matplotlib>=2.2->stellargraph) (1.3.1)\n",
            "Requirement already satisfied: python-dateutil>=2.1 in /usr/local/lib/python3.7/dist-packages (from matplotlib>=2.2->stellargraph) (2.8.1)\n",
            "Requirement already satisfied: pyparsing!=2.0.4,!=2.1.2,!=2.1.6,>=2.0.1 in /usr/local/lib/python3.7/dist-packages (from matplotlib>=2.2->stellargraph) (2.4.7)\n",
            "Requirement already satisfied: decorator<5,>=4.3 in /usr/local/lib/python3.7/dist-packages (from networkx>=2.2->stellargraph) (4.4.2)\n",
            "Requirement already satisfied: smart-open>=1.2.1 in /usr/local/lib/python3.7/dist-packages (from gensim>=3.4.0->stellargraph) (5.0.0)\n",
            "Requirement already satisfied: pytz>=2017.2 in /usr/local/lib/python3.7/dist-packages (from pandas>=0.24->stellargraph) (2018.9)\n",
            "Requirement already satisfied: setuptools in /usr/local/lib/python3.7/dist-packages (from protobuf>=3.9.2->tensorflow>=2.1.0->stellargraph) (56.1.0)\n",
            "Requirement already satisfied: requests<3,>=2.21.0 in /usr/local/lib/python3.7/dist-packages (from tensorboard~=2.4->tensorflow>=2.1.0->stellargraph) (2.23.0)\n",
            "Requirement already satisfied: markdown>=2.6.8 in /usr/local/lib/python3.7/dist-packages (from tensorboard~=2.4->tensorflow>=2.1.0->stellargraph) (3.3.4)\n",
            "Requirement already satisfied: google-auth-oauthlib<0.5,>=0.4.1 in /usr/local/lib/python3.7/dist-packages (from tensorboard~=2.4->tensorflow>=2.1.0->stellargraph) (0.4.4)\n",
            "Requirement already satisfied: werkzeug>=0.11.15 in /usr/local/lib/python3.7/dist-packages (from tensorboard~=2.4->tensorflow>=2.1.0->stellargraph) (2.0.0)\n",
            "Requirement already satisfied: tensorboard-plugin-wit>=1.6.0 in /usr/local/lib/python3.7/dist-packages (from tensorboard~=2.4->tensorflow>=2.1.0->stellargraph) (1.8.0)\n",
            "Requirement already satisfied: google-auth<2,>=1.6.3 in /usr/local/lib/python3.7/dist-packages (from tensorboard~=2.4->tensorflow>=2.1.0->stellargraph) (1.30.0)\n",
            "Requirement already satisfied: certifi>=2017.4.17 in /usr/local/lib/python3.7/dist-packages (from requests<3,>=2.21.0->tensorboard~=2.4->tensorflow>=2.1.0->stellargraph) (2020.12.5)\n",
            "Requirement already satisfied: urllib3!=1.25.0,!=1.25.1,<1.26,>=1.21.1 in /usr/local/lib/python3.7/dist-packages (from requests<3,>=2.21.0->tensorboard~=2.4->tensorflow>=2.1.0->stellargraph) (1.24.3)\n",
            "Requirement already satisfied: chardet<4,>=3.0.2 in /usr/local/lib/python3.7/dist-packages (from requests<3,>=2.21.0->tensorboard~=2.4->tensorflow>=2.1.0->stellargraph) (3.0.4)\n",
            "Requirement already satisfied: idna<3,>=2.5 in /usr/local/lib/python3.7/dist-packages (from requests<3,>=2.21.0->tensorboard~=2.4->tensorflow>=2.1.0->stellargraph) (2.10)\n",
            "Requirement already satisfied: importlib-metadata; python_version < \"3.8\" in /usr/local/lib/python3.7/dist-packages (from markdown>=2.6.8->tensorboard~=2.4->tensorflow>=2.1.0->stellargraph) (4.0.1)\n",
            "Requirement already satisfied: requests-oauthlib>=0.7.0 in /usr/local/lib/python3.7/dist-packages (from google-auth-oauthlib<0.5,>=0.4.1->tensorboard~=2.4->tensorflow>=2.1.0->stellargraph) (1.3.0)\n",
            "Requirement already satisfied: cachetools<5.0,>=2.0.0 in /usr/local/lib/python3.7/dist-packages (from google-auth<2,>=1.6.3->tensorboard~=2.4->tensorflow>=2.1.0->stellargraph) (4.2.2)\n",
            "Requirement already satisfied: rsa<5,>=3.1.4; python_version >= \"3.6\" in /usr/local/lib/python3.7/dist-packages (from google-auth<2,>=1.6.3->tensorboard~=2.4->tensorflow>=2.1.0->stellargraph) (4.7.2)\n",
            "Requirement already satisfied: pyasn1-modules>=0.2.1 in /usr/local/lib/python3.7/dist-packages (from google-auth<2,>=1.6.3->tensorboard~=2.4->tensorflow>=2.1.0->stellargraph) (0.2.8)\n",
            "Requirement already satisfied: zipp>=0.5 in /usr/local/lib/python3.7/dist-packages (from importlib-metadata; python_version < \"3.8\"->markdown>=2.6.8->tensorboard~=2.4->tensorflow>=2.1.0->stellargraph) (3.4.1)\n",
            "Requirement already satisfied: oauthlib>=3.0.0 in /usr/local/lib/python3.7/dist-packages (from requests-oauthlib>=0.7.0->google-auth-oauthlib<0.5,>=0.4.1->tensorboard~=2.4->tensorflow>=2.1.0->stellargraph) (3.1.0)\n",
            "Requirement already satisfied: pyasn1>=0.1.3 in /usr/local/lib/python3.7/dist-packages (from rsa<5,>=3.1.4; python_version >= \"3.6\"->google-auth<2,>=1.6.3->tensorboard~=2.4->tensorflow>=2.1.0->stellargraph) (0.4.8)\n"
          ],
          "name": "stdout"
        }
      ]
    },
    {
      "cell_type": "code",
      "metadata": {
        "id": "sws6DanqUfwB"
      },
      "source": [
        "import pandas as pd\n",
        "import numpy as np\n",
        "\n",
        "import stellargraph as sg\n",
        "from stellargraph.mapper import PaddedGraphGenerator\n",
        "from stellargraph.layer import DeepGraphCNN\n",
        "from stellargraph import StellarGraph\n",
        "\n",
        "from stellargraph import datasets\n",
        "\n",
        "from sklearn import model_selection\n",
        "from IPython.display import display, HTML\n",
        "\n",
        "from tensorflow.keras import Model\n",
        "from tensorflow.keras.optimizers import Adam\n",
        "from tensorflow.keras.layers import Dense, Conv1D, MaxPool1D, Dropout, Flatten\n",
        "from tensorflow.keras.losses import binary_crossentropy\n",
        "import tensorflow as tf"
      ],
      "execution_count": 2,
      "outputs": []
    },
    {
      "cell_type": "code",
      "metadata": {
        "colab": {
          "base_uri": "https://localhost:8080/",
          "height": 51
        },
        "id": "W-v9Lg9HUk_V",
        "outputId": "2631956f-6265-4411-957d-6b9cc0648142"
      },
      "source": [
        "dataset = datasets.PROTEINS()\n",
        "display(HTML(dataset.description))\n",
        "graphs, graph_labels = dataset.load()"
      ],
      "execution_count": 3,
      "outputs": [
        {
          "output_type": "display_data",
          "data": {
            "text/html": [
              "Each graph represents a protein and graph labels represent whether they are are enzymes or non-enzymes. The dataset includes 1113 graphs with 39 nodes and 73 edges on average for each graph. Graph nodes have 4 attributes (including a one-hot encoding of their label), and each graph is labelled as belonging to 1 of 2 classes."
            ],
            "text/plain": [
              "<IPython.core.display.HTML object>"
            ]
          },
          "metadata": {
            "tags": []
          }
        }
      ]
    },
    {
      "cell_type": "code",
      "metadata": {
        "colab": {
          "base_uri": "https://localhost:8080/"
        },
        "id": "NH18Fcj6Z4Vn",
        "outputId": "a0d0dd00-b620-48b3-b8e8-a221d3e7b55e"
      },
      "source": [
        "print(graphs[0].info())"
      ],
      "execution_count": 4,
      "outputs": [
        {
          "output_type": "stream",
          "text": [
            "StellarGraph: Undirected multigraph\n",
            " Nodes: 42, Edges: 162\n",
            "\n",
            " Node types:\n",
            "  default: [42]\n",
            "    Features: float32 vector, length 4\n",
            "    Edge types: default-default->default\n",
            "\n",
            " Edge types:\n",
            "    default-default->default: [162]\n",
            "        Weights: all 1 (default)\n",
            "        Features: none\n"
          ],
          "name": "stdout"
        }
      ]
    },
    {
      "cell_type": "code",
      "metadata": {
        "colab": {
          "base_uri": "https://localhost:8080/"
        },
        "id": "8KQTo-PRVmev",
        "outputId": "dc837a32-fc2a-4cf4-984a-a7ccea0774fc"
      },
      "source": [
        "print(graphs[1].info())"
      ],
      "execution_count": 5,
      "outputs": [
        {
          "output_type": "stream",
          "text": [
            "StellarGraph: Undirected multigraph\n",
            " Nodes: 27, Edges: 92\n",
            "\n",
            " Node types:\n",
            "  default: [27]\n",
            "    Features: float32 vector, length 4\n",
            "    Edge types: default-default->default\n",
            "\n",
            " Edge types:\n",
            "    default-default->default: [92]\n",
            "        Weights: all 1 (default)\n",
            "        Features: none\n"
          ],
          "name": "stdout"
        }
      ]
    },
    {
      "cell_type": "code",
      "metadata": {
        "colab": {
          "base_uri": "https://localhost:8080/",
          "height": 297
        },
        "id": "bXujSNGWZ_BQ",
        "outputId": "82491b29-a7b7-4e8f-d2d3-a2b841623e67"
      },
      "source": [
        "summary = pd.DataFrame(\n",
        "    [(g.number_of_nodes(), g.number_of_edges()) for g in graphs],\n",
        "    columns=[\"nodes\", \"edges\"],\n",
        ")\n",
        "summary.describe().round(1)"
      ],
      "execution_count": 6,
      "outputs": [
        {
          "output_type": "execute_result",
          "data": {
            "text/html": [
              "<div>\n",
              "<style scoped>\n",
              "    .dataframe tbody tr th:only-of-type {\n",
              "        vertical-align: middle;\n",
              "    }\n",
              "\n",
              "    .dataframe tbody tr th {\n",
              "        vertical-align: top;\n",
              "    }\n",
              "\n",
              "    .dataframe thead th {\n",
              "        text-align: right;\n",
              "    }\n",
              "</style>\n",
              "<table border=\"1\" class=\"dataframe\">\n",
              "  <thead>\n",
              "    <tr style=\"text-align: right;\">\n",
              "      <th></th>\n",
              "      <th>nodes</th>\n",
              "      <th>edges</th>\n",
              "    </tr>\n",
              "  </thead>\n",
              "  <tbody>\n",
              "    <tr>\n",
              "      <th>count</th>\n",
              "      <td>1113.0</td>\n",
              "      <td>1113.0</td>\n",
              "    </tr>\n",
              "    <tr>\n",
              "      <th>mean</th>\n",
              "      <td>39.1</td>\n",
              "      <td>145.6</td>\n",
              "    </tr>\n",
              "    <tr>\n",
              "      <th>std</th>\n",
              "      <td>45.8</td>\n",
              "      <td>169.3</td>\n",
              "    </tr>\n",
              "    <tr>\n",
              "      <th>min</th>\n",
              "      <td>4.0</td>\n",
              "      <td>10.0</td>\n",
              "    </tr>\n",
              "    <tr>\n",
              "      <th>25%</th>\n",
              "      <td>15.0</td>\n",
              "      <td>56.0</td>\n",
              "    </tr>\n",
              "    <tr>\n",
              "      <th>50%</th>\n",
              "      <td>26.0</td>\n",
              "      <td>98.0</td>\n",
              "    </tr>\n",
              "    <tr>\n",
              "      <th>75%</th>\n",
              "      <td>45.0</td>\n",
              "      <td>174.0</td>\n",
              "    </tr>\n",
              "    <tr>\n",
              "      <th>max</th>\n",
              "      <td>620.0</td>\n",
              "      <td>2098.0</td>\n",
              "    </tr>\n",
              "  </tbody>\n",
              "</table>\n",
              "</div>"
            ],
            "text/plain": [
              "        nodes   edges\n",
              "count  1113.0  1113.0\n",
              "mean     39.1   145.6\n",
              "std      45.8   169.3\n",
              "min       4.0    10.0\n",
              "25%      15.0    56.0\n",
              "50%      26.0    98.0\n",
              "75%      45.0   174.0\n",
              "max     620.0  2098.0"
            ]
          },
          "metadata": {
            "tags": []
          },
          "execution_count": 6
        }
      ]
    },
    {
      "cell_type": "code",
      "metadata": {
        "colab": {
          "base_uri": "https://localhost:8080/",
          "height": 111
        },
        "id": "zQDOqxY9aBts",
        "outputId": "74d6912c-94a9-46da-f631-a1d7639fac49"
      },
      "source": [
        "graph_labels.value_counts().to_frame()"
      ],
      "execution_count": 7,
      "outputs": [
        {
          "output_type": "execute_result",
          "data": {
            "text/html": [
              "<div>\n",
              "<style scoped>\n",
              "    .dataframe tbody tr th:only-of-type {\n",
              "        vertical-align: middle;\n",
              "    }\n",
              "\n",
              "    .dataframe tbody tr th {\n",
              "        vertical-align: top;\n",
              "    }\n",
              "\n",
              "    .dataframe thead th {\n",
              "        text-align: right;\n",
              "    }\n",
              "</style>\n",
              "<table border=\"1\" class=\"dataframe\">\n",
              "  <thead>\n",
              "    <tr style=\"text-align: right;\">\n",
              "      <th></th>\n",
              "      <th>label</th>\n",
              "    </tr>\n",
              "  </thead>\n",
              "  <tbody>\n",
              "    <tr>\n",
              "      <th>1</th>\n",
              "      <td>663</td>\n",
              "    </tr>\n",
              "    <tr>\n",
              "      <th>2</th>\n",
              "      <td>450</td>\n",
              "    </tr>\n",
              "  </tbody>\n",
              "</table>\n",
              "</div>"
            ],
            "text/plain": [
              "   label\n",
              "1    663\n",
              "2    450"
            ]
          },
          "metadata": {
            "tags": []
          },
          "execution_count": 7
        }
      ]
    },
    {
      "cell_type": "code",
      "metadata": {
        "id": "9lZTjEZwaED3"
      },
      "source": [
        "graph_labels = pd.get_dummies(graph_labels, drop_first=True)"
      ],
      "execution_count": 8,
      "outputs": []
    },
    {
      "cell_type": "code",
      "metadata": {
        "id": "PzTTAkumaGkU"
      },
      "source": [
        "generator = PaddedGraphGenerator(graphs=graphs)"
      ],
      "execution_count": 9,
      "outputs": []
    },
    {
      "cell_type": "markdown",
      "metadata": {
        "id": "NyohWFYxaTCx"
      },
      "source": [
        "Create the Keras graph classification model"
      ]
    },
    {
      "cell_type": "code",
      "metadata": {
        "colab": {
          "base_uri": "https://localhost:8080/"
        },
        "id": "1bsNtst1aJFV",
        "outputId": "5565302b-4311-413c-a824-2ed9d3416d1d"
      },
      "source": [
        "k = 35  # the number of rows for the output tensor\n",
        "layer_sizes = [32, 32, 32, 1]\n",
        "\n",
        "dgcnn_model = DeepGraphCNN(\n",
        "    layer_sizes=layer_sizes,\n",
        "    activations=[\"tanh\", \"tanh\", \"tanh\", \"tanh\"],\n",
        "    k=k,\n",
        "    bias=False,\n",
        "    generator=generator,\n",
        ")\n",
        "x_inp, x_out = dgcnn_model.in_out_tensors()"
      ],
      "execution_count": 10,
      "outputs": [
        {
          "output_type": "stream",
          "text": [
            "WARNING:tensorflow:From /usr/local/lib/python3.7/dist-packages/tensorflow/python/util/deprecation.py:605: calling map_fn_v2 (from tensorflow.python.ops.map_fn) with dtype is deprecated and will be removed in a future version.\n",
            "Instructions for updating:\n",
            "Use fn_output_signature instead\n"
          ],
          "name": "stdout"
        }
      ]
    },
    {
      "cell_type": "code",
      "metadata": {
        "id": "Qh0eTmv4aO8o"
      },
      "source": [
        "x_out = Conv1D(filters=16, kernel_size=sum(layer_sizes), strides=sum(layer_sizes))(x_out)\n",
        "x_out = MaxPool1D(pool_size=2)(x_out)\n",
        "\n",
        "x_out = Conv1D(filters=32, kernel_size=5, strides=1)(x_out)\n",
        "\n",
        "x_out = Flatten()(x_out)\n",
        "\n",
        "x_out = Dense(units=128, activation=\"relu\")(x_out)\n",
        "x_out = Dropout(rate=0.5)(x_out)\n",
        "\n",
        "predictions = Dense(units=1, activation=\"sigmoid\")(x_out)"
      ],
      "execution_count": 11,
      "outputs": []
    },
    {
      "cell_type": "code",
      "metadata": {
        "id": "K8bcKN9FaY8H"
      },
      "source": [
        "model = Model(inputs=x_inp, outputs=predictions)\n",
        "\n",
        "model.compile(\n",
        "    optimizer=Adam(lr=0.0001), loss=binary_crossentropy, metrics=[\"acc\"],\n",
        ")"
      ],
      "execution_count": 12,
      "outputs": []
    },
    {
      "cell_type": "code",
      "metadata": {
        "id": "kWECUgptabgR"
      },
      "source": [
        "train_graphs, test_graphs = model_selection.train_test_split(\n",
        "    graph_labels, train_size=0.9, test_size=None, stratify=graph_labels,\n",
        ")"
      ],
      "execution_count": 13,
      "outputs": []
    },
    {
      "cell_type": "code",
      "metadata": {
        "id": "ZwCq75TLadyi"
      },
      "source": [
        "gen = PaddedGraphGenerator(graphs=graphs)\n",
        "\n",
        "train_gen = gen.flow(\n",
        "    list(train_graphs.index - 1),\n",
        "    targets=train_graphs.values,\n",
        "    batch_size=50,\n",
        "    symmetric_normalization=False,\n",
        ")\n",
        "\n",
        "test_gen = gen.flow(\n",
        "    list(test_graphs.index - 1),\n",
        "    targets=test_graphs.values,\n",
        "    batch_size=1,\n",
        "    symmetric_normalization=False,\n",
        ")"
      ],
      "execution_count": 14,
      "outputs": []
    },
    {
      "cell_type": "code",
      "metadata": {
        "id": "PdBdLJwXag9b"
      },
      "source": [
        "epochs = 100"
      ],
      "execution_count": 15,
      "outputs": []
    },
    {
      "cell_type": "code",
      "metadata": {
        "colab": {
          "base_uri": "https://localhost:8080/"
        },
        "id": "ZqSqVXfrajaB",
        "outputId": "9efe4c66-0e1e-4429-9eb5-a8a7108fb16d"
      },
      "source": [
        "history = model.fit(\n",
        "    train_gen, epochs=epochs, verbose=1, validation_data=test_gen, shuffle=True,\n",
        ")\n"
      ],
      "execution_count": 16,
      "outputs": [
        {
          "output_type": "stream",
          "text": [
            "Epoch 1/100\n"
          ],
          "name": "stdout"
        },
        {
          "output_type": "stream",
          "text": [
            "/usr/local/lib/python3.7/dist-packages/tensorflow/python/framework/indexed_slices.py:437: UserWarning: Converting sparse IndexedSlices(IndexedSlices(indices=Tensor(\"gradient_tape/model/sort_pooling/map/while/gradients/model/sort_pooling/map/while/GatherV2_grad/Reshape_1:0\", shape=(None,), dtype=int32), values=Tensor(\"gradient_tape/model/sort_pooling/map/while/gradients/model/sort_pooling/map/while/GatherV2_grad/Reshape:0\", shape=(None, None), dtype=float32), dense_shape=Tensor(\"gradient_tape/model/sort_pooling/map/while/gradients/model/sort_pooling/map/while/GatherV2_grad/Cast:0\", shape=(2,), dtype=int32))) to a dense Tensor of unknown shape. This may consume a large amount of memory.\n",
            "  \"shape. This may consume a large amount of memory.\" % value)\n"
          ],
          "name": "stderr"
        },
        {
          "output_type": "stream",
          "text": [
            "21/21 [==============================] - 5s 154ms/step - loss: 0.6529 - acc: 0.5863 - val_loss: 0.6332 - val_acc: 0.5982\n",
            "Epoch 2/100\n",
            "21/21 [==============================] - 3s 123ms/step - loss: 0.6265 - acc: 0.6055 - val_loss: 0.6255 - val_acc: 0.6429\n",
            "Epoch 3/100\n",
            "21/21 [==============================] - 3s 101ms/step - loss: 0.6104 - acc: 0.6956 - val_loss: 0.6187 - val_acc: 0.6875\n",
            "Epoch 4/100\n",
            "21/21 [==============================] - 2s 120ms/step - loss: 0.5942 - acc: 0.7044 - val_loss: 0.6139 - val_acc: 0.6786\n",
            "Epoch 5/100\n",
            "21/21 [==============================] - 2s 119ms/step - loss: 0.5808 - acc: 0.7326 - val_loss: 0.6131 - val_acc: 0.6875\n",
            "Epoch 6/100\n",
            "21/21 [==============================] - 3s 101ms/step - loss: 0.5803 - acc: 0.7372 - val_loss: 0.6036 - val_acc: 0.6875\n",
            "Epoch 7/100\n",
            "21/21 [==============================] - 3s 118ms/step - loss: 0.5742 - acc: 0.7245 - val_loss: 0.6009 - val_acc: 0.6875\n",
            "Epoch 8/100\n",
            "21/21 [==============================] - 2s 121ms/step - loss: 0.5712 - acc: 0.7344 - val_loss: 0.6089 - val_acc: 0.6875\n",
            "Epoch 9/100\n",
            "21/21 [==============================] - 2s 120ms/step - loss: 0.5959 - acc: 0.7167 - val_loss: 0.6038 - val_acc: 0.6786\n",
            "Epoch 10/100\n",
            "21/21 [==============================] - 2s 119ms/step - loss: 0.5673 - acc: 0.7396 - val_loss: 0.6048 - val_acc: 0.6696\n",
            "Epoch 11/100\n",
            "21/21 [==============================] - 2s 118ms/step - loss: 0.5596 - acc: 0.7330 - val_loss: 0.5961 - val_acc: 0.6875\n",
            "Epoch 12/100\n",
            "21/21 [==============================] - 2s 118ms/step - loss: 0.5659 - acc: 0.7308 - val_loss: 0.5980 - val_acc: 0.6786\n",
            "Epoch 13/100\n",
            "21/21 [==============================] - 2s 121ms/step - loss: 0.5581 - acc: 0.7385 - val_loss: 0.5936 - val_acc: 0.6786\n",
            "Epoch 14/100\n",
            "21/21 [==============================] - 2s 120ms/step - loss: 0.5634 - acc: 0.7240 - val_loss: 0.5978 - val_acc: 0.6786\n",
            "Epoch 15/100\n",
            "21/21 [==============================] - 2s 119ms/step - loss: 0.5486 - acc: 0.7494 - val_loss: 0.5997 - val_acc: 0.6786\n",
            "Epoch 16/100\n",
            "21/21 [==============================] - 2s 117ms/step - loss: 0.5634 - acc: 0.7339 - val_loss: 0.5916 - val_acc: 0.6786\n",
            "Epoch 17/100\n",
            "21/21 [==============================] - 2s 119ms/step - loss: 0.5739 - acc: 0.7212 - val_loss: 0.5937 - val_acc: 0.6786\n",
            "Epoch 18/100\n",
            "21/21 [==============================] - 2s 120ms/step - loss: 0.5797 - acc: 0.7125 - val_loss: 0.5982 - val_acc: 0.6786\n",
            "Epoch 19/100\n",
            "21/21 [==============================] - 2s 115ms/step - loss: 0.5573 - acc: 0.7348 - val_loss: 0.5944 - val_acc: 0.6786\n",
            "Epoch 20/100\n",
            "21/21 [==============================] - 3s 119ms/step - loss: 0.5723 - acc: 0.7215 - val_loss: 0.5924 - val_acc: 0.6786\n",
            "Epoch 21/100\n",
            "21/21 [==============================] - 3s 121ms/step - loss: 0.5539 - acc: 0.7336 - val_loss: 0.5914 - val_acc: 0.6786\n",
            "Epoch 22/100\n",
            "21/21 [==============================] - 2s 123ms/step - loss: 0.5471 - acc: 0.7456 - val_loss: 0.5883 - val_acc: 0.6786\n",
            "Epoch 23/100\n",
            "21/21 [==============================] - 2s 115ms/step - loss: 0.5753 - acc: 0.7250 - val_loss: 0.5959 - val_acc: 0.6696\n",
            "Epoch 24/100\n",
            "21/21 [==============================] - 3s 114ms/step - loss: 0.5484 - acc: 0.7453 - val_loss: 0.5879 - val_acc: 0.6786\n",
            "Epoch 25/100\n",
            "21/21 [==============================] - 2s 121ms/step - loss: 0.5570 - acc: 0.7300 - val_loss: 0.5959 - val_acc: 0.6696\n",
            "Epoch 26/100\n",
            "21/21 [==============================] - 3s 121ms/step - loss: 0.5508 - acc: 0.7453 - val_loss: 0.5857 - val_acc: 0.6875\n",
            "Epoch 27/100\n",
            "21/21 [==============================] - 3s 116ms/step - loss: 0.5743 - acc: 0.7099 - val_loss: 0.5941 - val_acc: 0.6786\n",
            "Epoch 28/100\n",
            "21/21 [==============================] - 3s 120ms/step - loss: 0.5395 - acc: 0.7417 - val_loss: 0.5891 - val_acc: 0.6696\n",
            "Epoch 29/100\n",
            "21/21 [==============================] - 2s 121ms/step - loss: 0.5775 - acc: 0.7043 - val_loss: 0.5888 - val_acc: 0.6786\n",
            "Epoch 30/100\n",
            "21/21 [==============================] - 3s 126ms/step - loss: 0.5453 - acc: 0.7394 - val_loss: 0.5858 - val_acc: 0.6786\n",
            "Epoch 31/100\n",
            "21/21 [==============================] - 3s 118ms/step - loss: 0.5456 - acc: 0.7379 - val_loss: 0.5848 - val_acc: 0.6786\n",
            "Epoch 32/100\n",
            "21/21 [==============================] - 3s 125ms/step - loss: 0.5304 - acc: 0.7575 - val_loss: 0.5911 - val_acc: 0.6786\n",
            "Epoch 33/100\n",
            "21/21 [==============================] - 3s 120ms/step - loss: 0.5338 - acc: 0.7339 - val_loss: 0.5806 - val_acc: 0.6875\n",
            "Epoch 34/100\n",
            "21/21 [==============================] - 3s 122ms/step - loss: 0.5423 - acc: 0.7370 - val_loss: 0.5944 - val_acc: 0.6607\n",
            "Epoch 35/100\n",
            "21/21 [==============================] - 3s 116ms/step - loss: 0.5507 - acc: 0.7292 - val_loss: 0.5782 - val_acc: 0.6875\n",
            "Epoch 36/100\n",
            "21/21 [==============================] - 3s 121ms/step - loss: 0.5521 - acc: 0.7345 - val_loss: 0.5860 - val_acc: 0.6875\n",
            "Epoch 37/100\n",
            "21/21 [==============================] - 2s 118ms/step - loss: 0.5421 - acc: 0.7445 - val_loss: 0.5880 - val_acc: 0.6875\n",
            "Epoch 38/100\n",
            "21/21 [==============================] - 3s 118ms/step - loss: 0.5450 - acc: 0.7243 - val_loss: 0.5923 - val_acc: 0.6696\n",
            "Epoch 39/100\n",
            "21/21 [==============================] - 2s 120ms/step - loss: 0.5574 - acc: 0.7354 - val_loss: 0.5799 - val_acc: 0.6875\n",
            "Epoch 40/100\n",
            "21/21 [==============================] - 2s 119ms/step - loss: 0.5613 - acc: 0.7164 - val_loss: 0.5848 - val_acc: 0.6786\n",
            "Epoch 41/100\n",
            "21/21 [==============================] - 3s 121ms/step - loss: 0.5645 - acc: 0.7212 - val_loss: 0.5781 - val_acc: 0.6875\n",
            "Epoch 42/100\n",
            "21/21 [==============================] - 3s 122ms/step - loss: 0.5359 - acc: 0.7536 - val_loss: 0.5831 - val_acc: 0.6786\n",
            "Epoch 43/100\n",
            "21/21 [==============================] - 3s 123ms/step - loss: 0.5494 - acc: 0.7277 - val_loss: 0.5818 - val_acc: 0.6786\n",
            "Epoch 44/100\n",
            "21/21 [==============================] - 3s 120ms/step - loss: 0.5610 - acc: 0.7254 - val_loss: 0.6008 - val_acc: 0.6696\n",
            "Epoch 45/100\n",
            "21/21 [==============================] - 3s 128ms/step - loss: 0.5422 - acc: 0.7568 - val_loss: 0.5764 - val_acc: 0.7143\n",
            "Epoch 46/100\n",
            "21/21 [==============================] - 3s 120ms/step - loss: 0.5545 - acc: 0.7300 - val_loss: 0.5983 - val_acc: 0.6696\n",
            "Epoch 47/100\n",
            "21/21 [==============================] - 3s 122ms/step - loss: 0.5353 - acc: 0.7420 - val_loss: 0.5769 - val_acc: 0.7054\n",
            "Epoch 48/100\n",
            "21/21 [==============================] - 3s 120ms/step - loss: 0.5382 - acc: 0.7097 - val_loss: 0.5949 - val_acc: 0.6786\n",
            "Epoch 49/100\n",
            "21/21 [==============================] - 3s 123ms/step - loss: 0.5545 - acc: 0.7519 - val_loss: 0.5811 - val_acc: 0.6786\n",
            "Epoch 50/100\n",
            "21/21 [==============================] - 3s 113ms/step - loss: 0.5362 - acc: 0.7497 - val_loss: 0.5808 - val_acc: 0.6786\n",
            "Epoch 51/100\n",
            "21/21 [==============================] - 3s 118ms/step - loss: 0.5285 - acc: 0.7493 - val_loss: 0.5829 - val_acc: 0.6786\n",
            "Epoch 52/100\n",
            "21/21 [==============================] - 3s 118ms/step - loss: 0.5448 - acc: 0.7416 - val_loss: 0.5979 - val_acc: 0.6696\n",
            "Epoch 53/100\n",
            "21/21 [==============================] - 3s 123ms/step - loss: 0.5551 - acc: 0.7378 - val_loss: 0.5788 - val_acc: 0.6964\n",
            "Epoch 54/100\n",
            "21/21 [==============================] - 3s 121ms/step - loss: 0.5126 - acc: 0.7726 - val_loss: 0.5818 - val_acc: 0.6786\n",
            "Epoch 55/100\n",
            "21/21 [==============================] - 3s 121ms/step - loss: 0.5417 - acc: 0.7542 - val_loss: 0.5758 - val_acc: 0.6964\n",
            "Epoch 56/100\n",
            "21/21 [==============================] - 3s 121ms/step - loss: 0.5394 - acc: 0.7542 - val_loss: 0.5793 - val_acc: 0.6875\n",
            "Epoch 57/100\n",
            "21/21 [==============================] - 3s 120ms/step - loss: 0.5381 - acc: 0.7529 - val_loss: 0.5786 - val_acc: 0.6875\n",
            "Epoch 58/100\n",
            "21/21 [==============================] - 3s 119ms/step - loss: 0.5419 - acc: 0.7395 - val_loss: 0.6034 - val_acc: 0.6696\n",
            "Epoch 59/100\n",
            "21/21 [==============================] - 3s 126ms/step - loss: 0.4996 - acc: 0.7671 - val_loss: 0.5763 - val_acc: 0.7143\n",
            "Epoch 60/100\n",
            "21/21 [==============================] - 3s 121ms/step - loss: 0.5350 - acc: 0.7500 - val_loss: 0.5787 - val_acc: 0.6875\n",
            "Epoch 61/100\n",
            "21/21 [==============================] - 3s 123ms/step - loss: 0.5321 - acc: 0.7541 - val_loss: 0.5827 - val_acc: 0.6786\n",
            "Epoch 62/100\n",
            "21/21 [==============================] - 3s 122ms/step - loss: 0.5274 - acc: 0.7435 - val_loss: 0.5796 - val_acc: 0.6875\n",
            "Epoch 63/100\n",
            "21/21 [==============================] - 3s 118ms/step - loss: 0.5284 - acc: 0.7467 - val_loss: 0.5890 - val_acc: 0.6964\n",
            "Epoch 64/100\n",
            "21/21 [==============================] - 3s 118ms/step - loss: 0.5106 - acc: 0.7787 - val_loss: 0.5823 - val_acc: 0.6875\n",
            "Epoch 65/100\n",
            "21/21 [==============================] - 3s 123ms/step - loss: 0.5609 - acc: 0.7218 - val_loss: 0.6059 - val_acc: 0.6696\n",
            "Epoch 66/100\n",
            "21/21 [==============================] - 3s 116ms/step - loss: 0.5421 - acc: 0.7502 - val_loss: 0.5767 - val_acc: 0.7054\n",
            "Epoch 67/100\n",
            "21/21 [==============================] - 3s 120ms/step - loss: 0.5420 - acc: 0.7361 - val_loss: 0.5799 - val_acc: 0.6875\n",
            "Epoch 68/100\n",
            "21/21 [==============================] - 3s 123ms/step - loss: 0.5306 - acc: 0.7565 - val_loss: 0.5985 - val_acc: 0.6696\n",
            "Epoch 69/100\n",
            "21/21 [==============================] - 3s 123ms/step - loss: 0.5427 - acc: 0.7463 - val_loss: 0.5769 - val_acc: 0.6875\n",
            "Epoch 70/100\n",
            "21/21 [==============================] - 3s 121ms/step - loss: 0.5512 - acc: 0.7393 - val_loss: 0.5843 - val_acc: 0.6696\n",
            "Epoch 71/100\n",
            "21/21 [==============================] - 3s 123ms/step - loss: 0.5392 - acc: 0.7469 - val_loss: 0.5944 - val_acc: 0.6786\n",
            "Epoch 72/100\n",
            "21/21 [==============================] - 2s 117ms/step - loss: 0.5180 - acc: 0.7610 - val_loss: 0.5846 - val_acc: 0.6696\n",
            "Epoch 73/100\n",
            "21/21 [==============================] - 3s 117ms/step - loss: 0.5146 - acc: 0.7636 - val_loss: 0.5777 - val_acc: 0.6786\n",
            "Epoch 74/100\n",
            "21/21 [==============================] - 3s 123ms/step - loss: 0.5028 - acc: 0.7832 - val_loss: 0.5859 - val_acc: 0.6696\n",
            "Epoch 75/100\n",
            "21/21 [==============================] - 3s 122ms/step - loss: 0.5265 - acc: 0.7595 - val_loss: 0.5901 - val_acc: 0.6875\n",
            "Epoch 76/100\n",
            "21/21 [==============================] - 3s 120ms/step - loss: 0.5363 - acc: 0.7352 - val_loss: 0.5876 - val_acc: 0.6696\n",
            "Epoch 77/100\n",
            "21/21 [==============================] - 3s 117ms/step - loss: 0.5262 - acc: 0.7480 - val_loss: 0.5783 - val_acc: 0.6964\n",
            "Epoch 78/100\n",
            "21/21 [==============================] - 3s 123ms/step - loss: 0.5126 - acc: 0.7642 - val_loss: 0.5985 - val_acc: 0.6786\n",
            "Epoch 79/100\n",
            "21/21 [==============================] - 3s 116ms/step - loss: 0.5213 - acc: 0.7554 - val_loss: 0.5809 - val_acc: 0.6786\n",
            "Epoch 80/100\n",
            "21/21 [==============================] - 3s 123ms/step - loss: 0.5380 - acc: 0.7454 - val_loss: 0.5832 - val_acc: 0.6875\n",
            "Epoch 81/100\n",
            "21/21 [==============================] - 3s 124ms/step - loss: 0.5491 - acc: 0.7376 - val_loss: 0.5807 - val_acc: 0.6786\n",
            "Epoch 82/100\n",
            "21/21 [==============================] - 3s 123ms/step - loss: 0.5321 - acc: 0.7395 - val_loss: 0.5902 - val_acc: 0.6696\n",
            "Epoch 83/100\n",
            "21/21 [==============================] - 3s 123ms/step - loss: 0.5153 - acc: 0.7608 - val_loss: 0.5803 - val_acc: 0.6786\n",
            "Epoch 84/100\n",
            "21/21 [==============================] - 3s 121ms/step - loss: 0.5420 - acc: 0.7491 - val_loss: 0.5920 - val_acc: 0.6786\n",
            "Epoch 85/100\n",
            "21/21 [==============================] - 3s 121ms/step - loss: 0.5300 - acc: 0.7489 - val_loss: 0.5807 - val_acc: 0.6696\n",
            "Epoch 86/100\n",
            "21/21 [==============================] - 3s 116ms/step - loss: 0.5190 - acc: 0.7701 - val_loss: 0.5756 - val_acc: 0.7054\n",
            "Epoch 87/100\n",
            "21/21 [==============================] - 3s 124ms/step - loss: 0.4971 - acc: 0.7888 - val_loss: 0.5760 - val_acc: 0.6696\n",
            "Epoch 88/100\n",
            "21/21 [==============================] - 3s 115ms/step - loss: 0.5448 - acc: 0.7507 - val_loss: 0.5822 - val_acc: 0.6786\n",
            "Epoch 89/100\n",
            "21/21 [==============================] - 3s 122ms/step - loss: 0.5310 - acc: 0.7592 - val_loss: 0.5739 - val_acc: 0.6875\n",
            "Epoch 90/100\n",
            "21/21 [==============================] - 3s 123ms/step - loss: 0.5088 - acc: 0.7572 - val_loss: 0.5756 - val_acc: 0.6875\n",
            "Epoch 91/100\n",
            "21/21 [==============================] - 3s 122ms/step - loss: 0.5122 - acc: 0.7535 - val_loss: 0.5746 - val_acc: 0.6607\n",
            "Epoch 92/100\n",
            "21/21 [==============================] - 3s 121ms/step - loss: 0.5384 - acc: 0.7387 - val_loss: 0.5885 - val_acc: 0.6786\n",
            "Epoch 93/100\n",
            "21/21 [==============================] - 3s 123ms/step - loss: 0.5377 - acc: 0.7489 - val_loss: 0.5821 - val_acc: 0.6786\n",
            "Epoch 94/100\n",
            "21/21 [==============================] - 3s 118ms/step - loss: 0.5277 - acc: 0.7539 - val_loss: 0.5804 - val_acc: 0.6786\n",
            "Epoch 95/100\n",
            "21/21 [==============================] - 3s 102ms/step - loss: 0.5238 - acc: 0.7450 - val_loss: 0.5801 - val_acc: 0.6696\n",
            "Epoch 96/100\n",
            "21/21 [==============================] - 3s 119ms/step - loss: 0.5097 - acc: 0.7585 - val_loss: 0.5761 - val_acc: 0.6964\n",
            "Epoch 97/100\n",
            "21/21 [==============================] - 2s 119ms/step - loss: 0.5214 - acc: 0.7442 - val_loss: 0.5975 - val_acc: 0.6786\n",
            "Epoch 98/100\n",
            "21/21 [==============================] - 3s 124ms/step - loss: 0.5324 - acc: 0.7346 - val_loss: 0.5909 - val_acc: 0.6786\n",
            "Epoch 99/100\n",
            "21/21 [==============================] - 3s 119ms/step - loss: 0.5321 - acc: 0.7575 - val_loss: 0.5738 - val_acc: 0.7054\n",
            "Epoch 100/100\n",
            "21/21 [==============================] - 3s 121ms/step - loss: 0.5340 - acc: 0.7445 - val_loss: 0.5841 - val_acc: 0.6696\n"
          ],
          "name": "stdout"
        }
      ]
    },
    {
      "cell_type": "code",
      "metadata": {
        "colab": {
          "base_uri": "https://localhost:8080/",
          "height": 585
        },
        "id": "GSUG3vQ_aq4I",
        "outputId": "9f87de56-f631-4538-ad5b-9e257991d2fe"
      },
      "source": [
        "sg.utils.plot_history(history)"
      ],
      "execution_count": 17,
      "outputs": [
        {
          "output_type": "display_data",
          "data": {
            "image/png": "[encoded data removed]",
            "text/plain": [
              "<Figure size 504x576 with 2 Axes>"
            ]
          },
          "metadata": {
            "tags": [],
            "needs_background": "light"
          }
        }
      ]
    },
    {
      "cell_type": "code",
      "metadata": {
        "colab": {
          "base_uri": "https://localhost:8080/"
        },
        "id": "1aECfZAHarwM",
        "outputId": "2901bf6f-9f9a-42c5-b7d2-1774d5dc6383"
      },
      "source": [
        "test_metrics = model.evaluate(test_gen)\n",
        "print(\"\\nTest Set Metrics:\")\n",
        "for name, val in zip(model.metrics_names, test_metrics):\n",
        "    print(\"\\t{}: {:0.4f}\".format(name, val))"
      ],
      "execution_count": 18,
      "outputs": [
        {
          "output_type": "stream",
          "text": [
            "112/112 [==============================] - 0s 2ms/step - loss: 0.5841 - acc: 0.6696\n",
            "\n",
            "Test Set Metrics:\n",
            "\tloss: 0.5841\n",
            "\tacc: 0.6696\n"
          ],
          "name": "stdout"
        }
      ]
    }
  ]
}