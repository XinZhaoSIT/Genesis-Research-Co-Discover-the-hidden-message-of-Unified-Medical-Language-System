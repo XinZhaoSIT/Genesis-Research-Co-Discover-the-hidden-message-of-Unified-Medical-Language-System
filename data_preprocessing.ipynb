{
 "cells": [
  {
   "cell_type": "code",
   "execution_count": 4,
   "metadata": {},
   "outputs": [],
   "source": [
    "#data preprocessing: transfer the original umls dataset to be paired correspondent relations\n",
    "import pandas as pd\n",
    "import sys\n",
    "\n",
    "with open (\"umls-hier-NCI.txt\", \"r\") as myfile:\n",
    "    NCI = myfile.readlines()\n",
    "for i in range(len(NCI)):\n",
    "    NCISPRIT = NCI[i].split()\n",
    "    NCISPRITKEYVALUE = NCISPRIT\n",
    "    NCISPRITKEY = NCISPRITKEYVALUE[0]\n",
    "    del(NCISPRITKEYVALUE[0])\n",
    "    NCISPRITVALUE = NCISPRITKEYVALUE[0]\n",
    "    NCISPRITVALUELIST = NCISPRITVALUE.split(',')\n",
    "\n",
    "\n",
    "\n",
    "    if(len(NCISPRITVALUELIST)>1):\n",
    "        for i in range(len(NCISPRITVALUELIST)):\n",
    "            print (NCISPRITKEY,NCISPRITVALUELIST[i])\n",
    "    else:\n",
    "        print (NCISPRITKEY,NCISPRITVALUELIST[0])\n",
    "\n",
    "    output=sys.stdout\n",
    "    outputfile=open(\"/Users/ruixiwang/Desktop/MAC/667/project/NCI.txt\",\"a\")\n",
    "\n",
    "    sys.stdout=outputfile\n",
    "        "
   ]
  }
 ],
 "metadata": {
  "kernelspec": {
   "display_name": "Python 3",
   "language": "python",
   "name": "python3"
  },
  "language_info": {
   "codemirror_mode": {
    "name": "ipython",
    "version": 3
   },
   "file_extension": ".py",
   "mimetype": "text/x-python",
   "name": "python",
   "nbconvert_exporter": "python",
   "pygments_lexer": "ipython3",
   "version": "3.8.5"
  }
 },
 "nbformat": 4,
 "nbformat_minor": 5
}
